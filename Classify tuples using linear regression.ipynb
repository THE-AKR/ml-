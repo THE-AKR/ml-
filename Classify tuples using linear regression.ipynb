{
 "cells": [
  {
   "cell_type": "markdown",
   "id": "15869cc0-a6e7-4d58-939c-43822b16e4b8",
   "metadata": {},
   "source": [
    "<h1>Program No.6 Classify tuples using linear regression</h1>"
   ]
  },
  {
   "cell_type": "code",
   "execution_count": 1,
   "id": "c85a95b5",
   "metadata": {},
   "outputs": [
    {
     "name": "stdout",
     "output_type": "stream",
     "text": [
      "Predicted classes:\n",
      "Tuple 1: Class 0\n",
      "Tuple 2: Class 1\n",
      "Tuple 3: Class 0\n",
      "Tuple 4: Class 1\n"
     ]
    }
   ],
   "source": [
    "import numpy as np\n",
    "from sklearn.linear_model import LinearRegression\n",
    "\n",
    "# Sample data with more tuples\n",
    "data = np.array([\n",
    "    [1, 2, 0],\n",
    "    [2, 3, 0],\n",
    "    [3, 4, 0],\n",
    "    [5, 6, 1],\n",
    "    [6, 7, 1],\n",
    "    [7, 8, 1],\n",
    "    [2, 1, 0],\n",
    "    [4, 3, 0],\n",
    "    [6, 5, 1],\n",
    "    [8, 7, 1],\n",
    "    [9, 9, 1],\n",
    "    [10, 10, 1]\n",
    "])\n",
    "\n",
    "# Separate features (x) and labels (y)\n",
    "X = data[:, :-1]  # Features (x1, x2)\n",
    "y = data[:, -1]   # Labels (y)\n",
    "\n",
    "# Create a linear regression model\n",
    "model = LinearRegression()\n",
    "\n",
    "# Train the model\n",
    "model.fit(X, y)\n",
    "\n",
    "# Predict classes for new data\n",
    "new_data = np.array([\n",
    "    [4, 5],\n",
    "    [8, 9],\n",
    "    [2, 2],\n",
    "    [7, 8]\n",
    "])\n",
    "\n",
    "predicted_classes = model.predict(new_data)\n",
    "\n",
    "print(\"Predicted classes:\")\n",
    "for i, pred_class in enumerate(predicted_classes):\n",
    "    print(f\"Tuple {i+1}: Class {round(pred_class)}\")\n"
   ]
  },
  {
   "cell_type": "code",
   "execution_count": null,
   "id": "94eddbf0",
   "metadata": {},
   "outputs": [],
   "source": []
  }
 ],
 "metadata": {
  "kernelspec": {
   "display_name": "Python 3 (ipykernel)",
   "language": "python",
   "name": "python3"
  },
  "language_info": {
   "codemirror_mode": {
    "name": "ipython",
    "version": 3
   },
   "file_extension": ".py",
   "mimetype": "text/x-python",
   "name": "python",
   "nbconvert_exporter": "python",
   "pygments_lexer": "ipython3",
   "version": "3.12.2"
  },
  "widgets": {
   "application/vnd.jupyter.widget-state+json": {
    "state": {},
    "version_major": 2,
    "version_minor": 0
   }
  }
 },
 "nbformat": 4,
 "nbformat_minor": 5
}
